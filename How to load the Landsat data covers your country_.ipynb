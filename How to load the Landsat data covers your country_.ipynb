{
 "cells": [
  {
   "cell_type": "markdown",
   "id": "4cb532e7",
   "metadata": {},
   "source": [
    "This tutorial will guide you through the process of loading the Landsat data that covers your country by overlaying the Landsat scenes on your country's borders (United Arab Emirates-UAE will be used as an example). Please ensure to adjust the geographic coordinates [Lat, Long] at line #11 to reflect the specifications of your country. For instance, for UAE, the coordinates should be adjusted to [26,56]. Furthermore, kindly note to make corresponding changes to the country name at line #4 (countries filter) and at line #5 (filter Bounds). Prior to beginning, it is necessary to install the Conda package and the Python package, specifically the folium library. Regards, Dr. Basam Dahy (dohaibassam@gmail.com)"
   ]
  },
  {
   "cell_type": "code",
   "execution_count": 1,
   "id": "6442f2c5",
   "metadata": {},
   "outputs": [],
   "source": [
    "import ee"
   ]
  },
  {
   "cell_type": "code",
   "execution_count": 2,
   "id": "34987a3c",
   "metadata": {},
   "outputs": [
    {
     "data": {
      "text/html": [
       "<p>To authorize access needed by Earth Engine, open the following\n",
       "        URL in a web browser and follow the instructions:</p>\n",
       "        <p><a href=https://code.earthengine.google.com/client-auth?scopes=https%3A//www.googleapis.com/auth/earthengine%20https%3A//www.googleapis.com/auth/devstorage.full_control&request_id=0lQZLE-P-UH48yNDtnjbURQrISA_V5B53QCVIWMwnqQ&tc=B-BEhGrPjj7NPPisGPmEsJuI2CfZ5sZZ_oalSSUZW4Y&cc=kJuJGWHOfgqRoaqyz7lLtJHpE6RNsySdhdDscrPV2lw>https://code.earthengine.google.com/client-auth?scopes=https%3A//www.googleapis.com/auth/earthengine%20https%3A//www.googleapis.com/auth/devstorage.full_control&request_id=0lQZLE-P-UH48yNDtnjbURQrISA_V5B53QCVIWMwnqQ&tc=B-BEhGrPjj7NPPisGPmEsJuI2CfZ5sZZ_oalSSUZW4Y&cc=kJuJGWHOfgqRoaqyz7lLtJHpE6RNsySdhdDscrPV2lw</a></p>\n",
       "        <p>The authorization workflow will generate a code, which you should paste in the box below.</p>\n",
       "        "
      ],
      "text/plain": [
       "<IPython.core.display.HTML object>"
      ]
     },
     "metadata": {},
     "output_type": "display_data"
    },
    {
     "name": "stdout",
     "output_type": "stream",
     "text": [
      "Enter verification code: 4/1AWtgzh4_hMBlNnL3v2aucoxnHYO4e-FxjIgL7dLylfkkEYiWdzQD8-dOKh8\n",
      "\n",
      "Successfully saved authorization token.\n"
     ]
    }
   ],
   "source": [
    "ee.Authenticate()"
   ]
  },
  {
   "cell_type": "code",
   "execution_count": 3,
   "id": "c7765a0f",
   "metadata": {},
   "outputs": [],
   "source": [
    "ee.Initialize()"
   ]
  },
  {
   "cell_type": "code",
   "execution_count": 4,
   "id": "3e26d715",
   "metadata": {},
   "outputs": [],
   "source": [
    "countries = ee.FeatureCollection(\"USDOS/LSIB_SIMPLE/2017\");\n",
    "UAE = countries.filter(ee.Filter.eq(\"country_na\",\"United Arab Emirates\"));"
   ]
  },
  {
   "cell_type": "code",
   "execution_count": 5,
   "id": "af587481",
   "metadata": {},
   "outputs": [],
   "source": [
    "dataset = ee.ImageCollection('LANDSAT/LC08/C01/T1_TOA').filterDate('2017-01-01', '2017-12-31').filterBounds(UAE)\n"
   ]
  },
  {
   "cell_type": "code",
   "execution_count": 6,
   "id": "f0814628",
   "metadata": {},
   "outputs": [],
   "source": [
    "trueColor432 = dataset.select(['B4', 'B3', 'B2'])\n",
    "test = trueColor432.median()"
   ]
  },
  {
   "cell_type": "code",
   "execution_count": 7,
   "id": "8aaa7e4b",
   "metadata": {},
   "outputs": [],
   "source": [
    "import folium\n"
   ]
  },
  {
   "cell_type": "code",
   "execution_count": 8,
   "id": "24448158",
   "metadata": {},
   "outputs": [],
   "source": [
    "def add_ee_layer(self, ee_image_object, vis_params, name):\n",
    "  map_id_dict = ee.Image(ee_image_object).getMapId(vis_params)\n",
    "  folium.raster_layers.TileLayer(\n",
    "    tiles = map_id_dict['tile_fetcher'].url_format,\n",
    "    attr = 'Map Data &copy; <a href=\"https://earthengine.google.com/\">Google Earth Engine</a>',\n",
    "    name = name,\n",
    "    overlay = True,\n",
    "    control = True\n",
    "  ).add_to(self)\n"
   ]
  },
  {
   "cell_type": "code",
   "execution_count": 9,
   "id": "79d01c39",
   "metadata": {},
   "outputs": [],
   "source": [
    "folium.Map.add_ee_layer = add_ee_layer"
   ]
  },
  {
   "cell_type": "code",
   "execution_count": 10,
   "id": "63789005",
   "metadata": {},
   "outputs": [],
   "source": [
    "trueColor432Vis = {\n",
    "  'min': 0.0,\n",
    "  'max': 0.4}"
   ]
  },
  {
   "cell_type": "code",
   "execution_count": 11,
   "id": "357483b1",
   "metadata": {},
   "outputs": [],
   "source": [
    "my_map = folium.Map(location=[26, 56], zoom_start = 6)\n"
   ]
  },
  {
   "cell_type": "code",
   "execution_count": 12,
   "id": "d56dd25d",
   "metadata": {},
   "outputs": [],
   "source": [
    "my_map.add_ee_layer(test, trueColor432Vis, 'Landsat Median')\n"
   ]
  },
  {
   "cell_type": "code",
   "execution_count": 13,
   "id": "a5cd9e4a",
   "metadata": {},
   "outputs": [
    {
     "data": {
      "text/html": [
       "<div style=\"width:100%;\"><div style=\"position:relative;width:100%;height:0;padding-bottom:60%;\"><span style=\"color:#565656\">Make this Notebook Trusted to load map: File -> Trust Notebook</span><iframe srcdoc=\"&lt;!DOCTYPE html&gt;\n",
       "&lt;html&gt;\n",
       "&lt;head&gt;\n",
       "    \n",
       "    &lt;meta http-equiv=&quot;content-type&quot; content=&quot;text/html; charset=UTF-8&quot; /&gt;\n",
       "    \n",
       "        &lt;script&gt;\n",
       "            L_NO_TOUCH = false;\n",
       "            L_DISABLE_3D = false;\n",
       "        &lt;/script&gt;\n",
       "    \n",
       "    &lt;style&gt;html, body {width: 100%;height: 100%;margin: 0;padding: 0;}&lt;/style&gt;\n",
       "    &lt;style&gt;#map {position:absolute;top:0;bottom:0;right:0;left:0;}&lt;/style&gt;\n",
       "    &lt;script src=&quot;https://cdn.jsdelivr.net/npm/leaflet@1.9.3/dist/leaflet.js&quot;&gt;&lt;/script&gt;\n",
       "    &lt;script src=&quot;https://code.jquery.com/jquery-1.12.4.min.js&quot;&gt;&lt;/script&gt;\n",
       "    &lt;script src=&quot;https://cdn.jsdelivr.net/npm/bootstrap@5.2.2/dist/js/bootstrap.bundle.min.js&quot;&gt;&lt;/script&gt;\n",
       "    &lt;script src=&quot;https://cdnjs.cloudflare.com/ajax/libs/Leaflet.awesome-markers/2.0.2/leaflet.awesome-markers.js&quot;&gt;&lt;/script&gt;\n",
       "    &lt;link rel=&quot;stylesheet&quot; href=&quot;https://cdn.jsdelivr.net/npm/leaflet@1.9.3/dist/leaflet.css&quot;/&gt;\n",
       "    &lt;link rel=&quot;stylesheet&quot; href=&quot;https://cdn.jsdelivr.net/npm/bootstrap@5.2.2/dist/css/bootstrap.min.css&quot;/&gt;\n",
       "    &lt;link rel=&quot;stylesheet&quot; href=&quot;https://netdna.bootstrapcdn.com/bootstrap/3.0.0/css/bootstrap.min.css&quot;/&gt;\n",
       "    &lt;link rel=&quot;stylesheet&quot; href=&quot;https://cdn.jsdelivr.net/npm/@fortawesome/fontawesome-free@6.2.0/css/all.min.css&quot;/&gt;\n",
       "    &lt;link rel=&quot;stylesheet&quot; href=&quot;https://cdnjs.cloudflare.com/ajax/libs/Leaflet.awesome-markers/2.0.2/leaflet.awesome-markers.css&quot;/&gt;\n",
       "    &lt;link rel=&quot;stylesheet&quot; href=&quot;https://cdn.jsdelivr.net/gh/python-visualization/folium/folium/templates/leaflet.awesome.rotate.min.css&quot;/&gt;\n",
       "    \n",
       "            &lt;meta name=&quot;viewport&quot; content=&quot;width=device-width,\n",
       "                initial-scale=1.0, maximum-scale=1.0, user-scalable=no&quot; /&gt;\n",
       "            &lt;style&gt;\n",
       "                #map_d3559a85dbe07954cec3324bf927b3c8 {\n",
       "                    position: relative;\n",
       "                    width: 100.0%;\n",
       "                    height: 100.0%;\n",
       "                    left: 0.0%;\n",
       "                    top: 0.0%;\n",
       "                }\n",
       "                .leaflet-container { font-size: 1rem; }\n",
       "            &lt;/style&gt;\n",
       "        \n",
       "&lt;/head&gt;\n",
       "&lt;body&gt;\n",
       "    \n",
       "    \n",
       "            &lt;div class=&quot;folium-map&quot; id=&quot;map_d3559a85dbe07954cec3324bf927b3c8&quot; &gt;&lt;/div&gt;\n",
       "        \n",
       "&lt;/body&gt;\n",
       "&lt;script&gt;\n",
       "    \n",
       "    \n",
       "            var map_d3559a85dbe07954cec3324bf927b3c8 = L.map(\n",
       "                &quot;map_d3559a85dbe07954cec3324bf927b3c8&quot;,\n",
       "                {\n",
       "                    center: [26.0, 56.0],\n",
       "                    crs: L.CRS.EPSG3857,\n",
       "                    zoom: 6,\n",
       "                    zoomControl: true,\n",
       "                    preferCanvas: false,\n",
       "                }\n",
       "            );\n",
       "\n",
       "            \n",
       "\n",
       "        \n",
       "    \n",
       "            var tile_layer_2a2c1acf665856dcccc969fac6b78e29 = L.tileLayer(\n",
       "                &quot;https://{s}.tile.openstreetmap.org/{z}/{x}/{y}.png&quot;,\n",
       "                {&quot;attribution&quot;: &quot;Data by \\u0026copy; \\u003ca target=\\&quot;_blank\\&quot; href=\\&quot;http://openstreetmap.org\\&quot;\\u003eOpenStreetMap\\u003c/a\\u003e, under \\u003ca target=\\&quot;_blank\\&quot; href=\\&quot;http://www.openstreetmap.org/copyright\\&quot;\\u003eODbL\\u003c/a\\u003e.&quot;, &quot;detectRetina&quot;: false, &quot;maxNativeZoom&quot;: 18, &quot;maxZoom&quot;: 18, &quot;minZoom&quot;: 0, &quot;noWrap&quot;: false, &quot;opacity&quot;: 1, &quot;subdomains&quot;: &quot;abc&quot;, &quot;tms&quot;: false}\n",
       "            ).addTo(map_d3559a85dbe07954cec3324bf927b3c8);\n",
       "        \n",
       "    \n",
       "            var tile_layer_f4fef336976ddcc50e8b5118078cb247 = L.tileLayer(\n",
       "                &quot;https://earthengine.googleapis.com/v1alpha/projects/earthengine-legacy/maps/37d251d3655fecb14aaba49c50b106ec-385235c35b1fe77fc0713e55413c3c61/tiles/{z}/{x}/{y}&quot;,\n",
       "                {&quot;attribution&quot;: &quot;Map Data \\u0026copy; \\u003ca href=\\&quot;https://earthengine.google.com/\\&quot;\\u003eGoogle Earth Engine\\u003c/a\\u003e&quot;, &quot;detectRetina&quot;: false, &quot;maxNativeZoom&quot;: 18, &quot;maxZoom&quot;: 18, &quot;minZoom&quot;: 0, &quot;noWrap&quot;: false, &quot;opacity&quot;: 1, &quot;subdomains&quot;: &quot;abc&quot;, &quot;tms&quot;: false}\n",
       "            ).addTo(map_d3559a85dbe07954cec3324bf927b3c8);\n",
       "        \n",
       "    \n",
       "            var layer_control_0bdb416d0fa75e21148808f8722f0a4d = {\n",
       "                base_layers : {\n",
       "                    &quot;openstreetmap&quot; : tile_layer_2a2c1acf665856dcccc969fac6b78e29,\n",
       "                },\n",
       "                overlays :  {\n",
       "                    &quot;Landsat Median&quot; : tile_layer_f4fef336976ddcc50e8b5118078cb247,\n",
       "                },\n",
       "            };\n",
       "            L.control.layers(\n",
       "                layer_control_0bdb416d0fa75e21148808f8722f0a4d.base_layers,\n",
       "                layer_control_0bdb416d0fa75e21148808f8722f0a4d.overlays,\n",
       "                {&quot;autoZIndex&quot;: true, &quot;collapsed&quot;: true, &quot;position&quot;: &quot;topright&quot;}\n",
       "            ).addTo(map_d3559a85dbe07954cec3324bf927b3c8);\n",
       "        \n",
       "&lt;/script&gt;\n",
       "&lt;/html&gt;\" style=\"position:absolute;width:100%;height:100%;left:0;top:0;border:none !important;\" allowfullscreen webkitallowfullscreen mozallowfullscreen></iframe></div></div>"
      ],
      "text/plain": [
       "<folium.folium.Map at 0x1555328becd0>"
      ]
     },
     "metadata": {},
     "output_type": "display_data"
    }
   ],
   "source": [
    "my_map.add_child(folium.LayerControl())\n",
    "display(my_map)"
   ]
  },
  {
   "cell_type": "code",
   "execution_count": null,
   "id": "fbdc981c",
   "metadata": {},
   "outputs": [],
   "source": []
  }
 ],
 "metadata": {
  "kernelspec": {
   "display_name": "Gee",
   "language": "python",
   "name": "myenv"
  },
  "language_info": {
   "codemirror_mode": {
    "name": "ipython",
    "version": 3
   },
   "file_extension": ".py",
   "mimetype": "text/x-python",
   "name": "python",
   "nbconvert_exporter": "python",
   "pygments_lexer": "ipython3",
   "version": "3.8.16"
  }
 },
 "nbformat": 4,
 "nbformat_minor": 5
}
